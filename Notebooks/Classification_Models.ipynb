{
 "cells": [
  {
   "cell_type": "code",
   "execution_count": 1,
   "metadata": {},
   "outputs": [
    {
     "name": "stderr",
     "output_type": "stream",
     "text": [
      "[nltk_data] Downloading package stopwords to /Users/niall/nltk_data...\n",
      "[nltk_data]   Package stopwords is already up-to-date!\n",
      "[nltk_data] Downloading package wordnet to /Users/niall/nltk_data...\n",
      "[nltk_data]   Package wordnet is already up-to-date!\n"
     ]
    }
   ],
   "source": [
    "import warnings\n",
    "warnings.filterwarnings('ignore')\n",
    "import pandas as pd\n",
    "import string\n",
    "import nltk\n",
    "nltk.download('stopwords')\n",
    "nltk.download('wordnet')\n",
    "from nltk.corpus import stopwords\n",
    "from sklearn.metrics import precision_recall_curve, average_precision_score, precision_score\n",
    "from sklearn.metrics import plot_precision_recall_curve, recall_score\n",
    "from sklearn.pipeline import Pipeline\n",
    "stop_words = stopwords.words('english')\n",
    "from nltk.stem import WordNetLemmatizer\n",
    "from sklearn.feature_extraction.text import CountVectorizer\n",
    "pd.set_option('max_rows',50000)\n",
    "import pickle\n",
    "from sklearn.naive_bayes import MultinomialNB\n",
    "from sklearn.metrics import classification_report\n",
    "from sklearn.tree import DecisionTreeClassifier\n",
    "from sklearn.metrics import confusion_matrix\n",
    "from sklearn.model_selection import KFold\n",
    "from sklearn.model_selection import train_test_split, RandomizedSearchCV\n",
    "import numpy as np\n",
    "from sklearn.model_selection import cross_val_score\n",
    "import seaborn as sns\n",
    "from sklearn.preprocessing import StandardScaler\n",
    "from wordcloud import WordCloud\n",
    "from sklearn.naive_bayes import GaussianNB\n",
    "%matplotlib inline\n",
    "from sklearn.metrics import roc_curve\n",
    "from sklearn.discriminant_analysis import LinearDiscriminantAnalysis\n",
    "from sklearn.metrics import roc_auc_score\n",
    "import matplotlib.pyplot as plt\n",
    "from sklearn.neighbors import KNeighborsClassifier\n",
    "from sklearn.linear_model import LogisticRegression\n",
    "from sklearn.svm import SVC\n",
    "from sklearn.metrics import accuracy_score\n",
    "from sklearn.utils import shuffle\n",
    "from sklearn.feature_extraction.text import TfidfVectorizer\n",
    "from sklearn import model_selection\n",
    "from sklearn.model_selection import LeaveOneOut\n",
    "from sklearn.model_selection import LeavePOut\n",
    "from sklearn.model_selection import ShuffleSplit\n",
    "from sklearn.model_selection import StratifiedKFold, GridSearchCV\n",
    "from sklearn.ensemble import AdaBoostClassifier\n",
    "from sklearn.ensemble import GradientBoostingClassifier\n",
    "from sklearn.ensemble import RandomForestClassifier\n",
    "from sklearn.ensemble import ExtraTreesClassifier"
   ]
  },
  {
   "cell_type": "code",
   "execution_count": 2,
   "metadata": {},
   "outputs": [],
   "source": [
    "def get_data():\n",
    "    input_file = './Sarcasm_Headlines_Dataset.json'\n",
    "    data = list(parseJson(input_file))\n",
    "\n",
    "    df = pd.DataFrame(data)\n",
    "    df = df[['is_sarcastic','headline']]\n",
    "    df = shuffle(df)\n",
    "    \n",
    "    df['headline'] = df.headline.apply(to_lower)\n",
    "    df['headline'] = df.headline.apply(punctuation_stp_words_lemmatize)\n",
    "    tfidf_vectorizer = TfidfVectorizer(analyzer ='word', encoding= 'utf-8', decode_error = 'ignore', strip_accents='ascii')\n",
    "    X = tfidf_vectorizer.fit_transform(df['headline'])\n",
    "    X = pd.DataFrame(X.toarray(), columns=tfidf_vectorizer.get_feature_names())\n",
    "    y = df['is_sarcastic']\n",
    "    X_train, X_test, y_train, y_test = train_test_split(X, y, test_size=0.25, random_state=42)\n",
    "\n",
    "    return X_train, X_test, y_train, y_test"
   ]
  },
  {
   "cell_type": "code",
   "execution_count": 3,
   "metadata": {},
   "outputs": [],
   "source": [
    "table = str.maketrans('', '', string.punctuation)\n",
    "lemmatizer = WordNetLemmatizer() \n",
    "def parseJson(fname):\n",
    "    for line in open(fname, 'r'):\n",
    "        yield eval(line)\n",
    "\n",
    "def to_lower(inp):\n",
    "    return inp.lower()\n",
    "\n",
    "def punctuation_lemmatize(inp):\n",
    "    words = inp.split()\n",
    "    stripped = [w.translate(table) for w in words]\n",
    "    stripped = [w for w in stripped if len(w) > 1]\n",
    "    stripped = [ lemmatizer.lemmatize(w) for w in stripped]    \n",
    "    return ' '.join(stripped)\n",
    "\n",
    "def punctuation_stp_words_lemmatize(inp):\n",
    "    words = inp.split()\n",
    "    stripped = [w.translate(table) for w in words]\n",
    "    stripped = [w for w in stripped if len(w) > 1]\n",
    "    stripped = [w for w in stripped if not w in stop_words]\n",
    "    stripped = [ lemmatizer.lemmatize(w) for w in stripped]    \n",
    "    return ' '.join(stripped)\n",
    "\n",
    "def get_top_n_words(corpus, n=None):\n",
    "    vec = TfidfVectorizer(min_df = 2,max_df = 1.0).fit(corpus)\n",
    "    bag_of_words = vec.transform(corpus)\n",
    "    sum_words = bag_of_words.sum(axis=0) \n",
    "    words_freq = [(word, sum_words[0, idx]) for word, idx in     vec.vocabulary_.items()]\n",
    "    words_freq =sorted(words_freq, key = lambda x: x[1], reverse=True)\n",
    "    return words_freq[:n]\n",
    "\n",
    "def roc_curve_plot(nb_probs):\n",
    "    fpr, tpr, _ = roc_curve(y_test, nb_probs)\n",
    "    plt.plot(fpr, tpr, marker='.', label='ROC Curve')\n",
    "    plt.xlabel('False Positive Rate')\n",
    "    plt.ylabel('True Positive Rate')\n",
    "    plt.legend()\n",
    "    plt.show()\n",
    "    \n",
    "def print_auc_score(nb_probs):\n",
    "    auc = roc_auc_score(y_test, nb_probs)\n",
    "    print('AUC: ', auc)\n",
    "    \n",
    "def model_analysis(model, model_name, preds, nb_probs):\n",
    "    average_precision = average_precision_score(y_test, preds)\n",
    "    print(classification_report(y_test, preds))\n",
    "    print(confusion_matrix(y_test, preds))\n",
    "    print(model_name , ' accuracy score: ' , accuracy_score(y_test, preds))\n",
    "    print(model_name , ' precision score: ' , precision_score(y_test, preds))\n",
    "    print(model_name , ' recall score: ' , recall_score(y_test, preds))\n",
    "    print(model_name , ' average precision-recall score: ' , average_precision)\n",
    "    \n",
    "    disp = plot_precision_recall_curve(model, X_test, y_test)\n",
    "    disp.ax_.set_title('2-class Precision-Recall curve: '\n",
    "                   'AP={0:0.2f}'.format(average_precision))"
   ]
  },
  {
   "cell_type": "code",
   "execution_count": 4,
   "metadata": {},
   "outputs": [],
   "source": [
    "sarcasm_headline_data = get_data()"
   ]
  },
  {
   "cell_type": "code",
   "execution_count": 5,
   "metadata": {},
   "outputs": [],
   "source": [
    "X_train = sarcasm_headline_data[0]\n",
    "X_test = sarcasm_headline_data[1]\n",
    "y_train = sarcasm_headline_data[2]\n",
    "y_test = sarcasm_headline_data[3]"
   ]
  },
  {
   "cell_type": "code",
   "execution_count": 6,
   "metadata": {},
   "outputs": [
    {
     "name": "stdout",
     "output_type": "stream",
     "text": [
      "(21464, 25860) (21464,)\n",
      "(7155, 25860) (7155,)\n"
     ]
    }
   ],
   "source": [
    "print(X_train.shape,y_train.shape)\n",
    "print(X_test.shape,y_test.shape)"
   ]
  },
  {
   "cell_type": "code",
   "execution_count": 7,
   "metadata": {},
   "outputs": [
    {
     "name": "stdout",
     "output_type": "stream",
     "text": [
      "Train Data Distribution \n",
      "0    0.521385\n",
      "1    0.478615\n",
      "Name: is_sarcastic, dtype: float64\n",
      "Test Data Distribution \n",
      "0    0.530259\n",
      "1    0.469741\n",
      "Name: is_sarcastic, dtype: float64\n"
     ]
    }
   ],
   "source": [
    "print(\"Train Data Distribution \")\n",
    "print(y_train.value_counts(normalize=True))\n",
    "print(\"Test Data Distribution \")\n",
    "print(y_test.value_counts(normalize=True))"
   ]
  },
  {
   "cell_type": "code",
   "execution_count": 8,
   "metadata": {},
   "outputs": [],
   "source": [
    "LR_model = pickle.load( open( \"./Models/LR_model.pkl\", \"rb\"))\n",
    "KNN_model = pickle.load( open( \"./Models/KNN_model.pkl\", \"rb\"))\n",
    "GNB_model = pickle.load( open( \"./Models/GNB_model.pkl\", \"rb\"))\n",
    "NB_model = pickle.load( open( \"./Models/NB_model.pkl\", \"rb\" ))\n",
    "SVM_model = pickle.load( open( \"./Models/SVM_model.pkl\", \"rb\"))"
   ]
  },
  {
   "cell_type": "code",
   "execution_count": 9,
   "metadata": {},
   "outputs": [
    {
     "name": "stdout",
     "output_type": "stream",
     "text": [
      "finsih\n",
      "finsih\n",
      "finsih\n"
     ]
    }
   ],
   "source": [
    "KNN_model.fit(X_train, y_train)\n",
    "print('finsih')\n",
    "GNB_model.fit(X_train, y_train)\n",
    "print('finsih')\n",
    "NB_model.fit(X_train, y_train)\n",
    "print('finsih')"
   ]
  },
  {
   "cell_type": "code",
   "execution_count": 10,
   "metadata": {},
   "outputs": [
    {
     "name": "stdout",
     "output_type": "stream",
     "text": [
      "finsih\n",
      "finsih\n"
     ]
    }
   ],
   "source": [
    "GNB_predictions = GNB_model.predict(X_test)\n",
    "print('finsih')\n",
    "NB_predictions = NB_model.predict(X_test)\n",
    "print('finsih')"
   ]
  },
  {
   "cell_type": "code",
   "execution_count": 11,
   "metadata": {},
   "outputs": [],
   "source": [
    "GNB_nb_probs = GNB_model.predict_proba(X_test)\n",
    "GNB_nb_probs = GNB_nb_probs[:, 1]\n",
    "\n",
    "NB_nb_probs = NB_model.predict_proba(X_test)\n",
    "NB_nb_probs = NB_nb_probs[:, 1]"
   ]
  },
  {
   "cell_type": "code",
   "execution_count": 12,
   "metadata": {},
   "outputs": [
    {
     "name": "stdout",
     "output_type": "stream",
     "text": [
      "GNB accuracy score 0.6550663871418588\n",
      "NB accuracy score 0.7966457023060797\n"
     ]
    }
   ],
   "source": [
    "print('GNB accuracy score' , accuracy_score(y_test, GNB_predictions))\n",
    "print('NB accuracy score' , accuracy_score(y_test, NB_predictions))"
   ]
  },
  {
   "cell_type": "code",
   "execution_count": null,
   "metadata": {},
   "outputs": [],
   "source": []
  },
  {
   "cell_type": "code",
   "execution_count": 13,
   "metadata": {},
   "outputs": [
    {
     "name": "stdout",
     "output_type": "stream",
     "text": [
      "              precision    recall  f1-score   support\n",
      "\n",
      "           0       0.63      0.83      0.72      3794\n",
      "           1       0.71      0.45      0.55      3361\n",
      "\n",
      "    accuracy                           0.66      7155\n",
      "   macro avg       0.67      0.64      0.64      7155\n",
      "weighted avg       0.67      0.66      0.64      7155\n",
      "\n",
      "[[3166  628]\n",
      " [1840 1521]]\n",
      "GNB   accuracy score:  0.6550663871418588\n",
      "GNB   precision score:  0.7077710563052583\n",
      "GNB   recall score:  0.4525438857482892\n",
      "GNB   average precision-recall score:  0.5774602872411119\n"
     ]
    },
    {
     "data": {
      "image/png": "[encoded data removed]",
      "text/plain": [
       "<Figure size 432x288 with 1 Axes>"
      ]
     },
     "metadata": {
      "needs_background": "light"
     },
     "output_type": "display_data"
    }
   ],
   "source": [
    "model_analysis(GNB_model, 'GNB ', GNB_predictions, GNB_nb_probs)"
   ]
  },
  {
   "cell_type": "code",
   "execution_count": 14,
   "metadata": {},
   "outputs": [
    {
     "name": "stdout",
     "output_type": "stream",
     "text": [
      "AUC:  0.6436858209700811\n"
     ]
    },
    {
     "data": {
      "image/png": "[encoded data removed]",
      "text/plain": [
       "<Figure size 432x288 with 1 Axes>"
      ]
     },
     "metadata": {
      "needs_background": "light"
     },
     "output_type": "display_data"
    }
   ],
   "source": [
    "print_auc_score(GNB_nb_probs)\n",
    "roc_curve_plot(GNB_nb_probs)"
   ]
  },
  {
   "cell_type": "code",
   "execution_count": null,
   "metadata": {},
   "outputs": [],
   "source": []
  },
  {
   "cell_type": "code",
   "execution_count": 15,
   "metadata": {},
   "outputs": [
    {
     "name": "stdout",
     "output_type": "stream",
     "text": [
      "              precision    recall  f1-score   support\n",
      "\n",
      "           0       0.78      0.85      0.82      3794\n",
      "           1       0.81      0.74      0.77      3361\n",
      "\n",
      "    accuracy                           0.80      7155\n",
      "   macro avg       0.80      0.79      0.79      7155\n",
      "weighted avg       0.80      0.80      0.80      7155\n",
      "\n",
      "[[3226  568]\n",
      " [ 887 2474]]\n",
      "NB   accuracy score:  0.7966457023060797\n",
      "NB   precision score:  0.8132807363576594\n",
      "NB   recall score:  0.7360904492710503\n",
      "NB   average precision-recall score:  0.7226174348801392\n"
     ]
    },
    {
     "data": {
      "image/png": "[encoded data removed]",
      "text/plain": [
       "<Figure size 432x288 with 1 Axes>"
      ]
     },
     "metadata": {
      "needs_background": "light"
     },
     "output_type": "display_data"
    }
   ],
   "source": [
    "model_analysis(NB_model, 'NB ', NB_predictions, NB_nb_probs)"
   ]
  },
  {
   "cell_type": "code",
   "execution_count": 16,
   "metadata": {},
   "outputs": [
    {
     "name": "stdout",
     "output_type": "stream",
     "text": [
      "AUC:  0.8812989770565876\n"
     ]
    },
    {
     "data": {
      "image/png": "[encoded data removed]",
      "text/plain": [
       "<Figure size 432x288 with 1 Axes>"
      ]
     },
     "metadata": {
      "needs_background": "light"
     },
     "output_type": "display_data"
    }
   ],
   "source": [
    "print_auc_score(NB_nb_probs)\n",
    "roc_curve_plot(NB_nb_probs)"
   ]
  },
  {
   "cell_type": "code",
   "execution_count": null,
   "metadata": {},
   "outputs": [],
   "source": []
  }
 ],
 "metadata": {
  "kernelspec": {
   "display_name": "DCUML",
   "language": "python",
   "name": "dcuml"
  },
  "language_info": {
   "codemirror_mode": {
    "name": "ipython",
    "version": 3
   },
   "file_extension": ".py",
   "mimetype": "text/x-python",
   "name": "python",
   "nbconvert_exporter": "python",
   "pygments_lexer": "ipython3",
   "version": "3.7.7"
  }
 },
 "nbformat": 4,
 "nbformat_minor": 4
}
